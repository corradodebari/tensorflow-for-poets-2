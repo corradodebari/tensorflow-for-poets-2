{
 "cells": [
  {
   "cell_type": "markdown",
   "metadata": {},
   "source": [
    "# Inference Server"
   ]
  },
  {
   "cell_type": "markdown",
   "metadata": {},
   "source": [
    "This notebook start an HTTP server that poll in a directory \"mypath\" the presence of a image file \".jpg\" and a \".ck\" file with the same name of image file. Ex.: \"DSC_005.jpg\" and \"DSC_005.jpg.ck\".\n",
    "If the files exist, it performs a classification of image and write a json file with this structure:  "
   ]
  },
  {
   "cell_type": "raw",
   "metadata": {},
   "source": [
    "{   \n",
    " \"name\":\"img_20171222_111527.jpg\",  \n",
    " \"results\": [  \n",
    "        {   \n",
    "         \"class1\":\"closed\",  \n",
    "         \"value\":\"0.994969\"},  \n",
    "        {   \n",
    "         \"class\":\"open\",  \n",
    "         \"value\":\"0.00503138\" }  \n",
    "    ]    \n",
    "}"
   ]
  },
  {
   "cell_type": "markdown",
   "metadata": {},
   "source": [
    "Files after classification will be removed. \n",
    "\n",
    "Setup environment variable:  **SAMPLE_MAINTENANCE** for root project directory"
   ]
  },
  {
   "cell_type": "code",
   "execution_count": null,
   "metadata": {},
   "outputs": [],
   "source": [
    "import os\n",
    "import time\n",
    "#testSet=\"close\"\n",
    "testSet=\"open\"\n",
    "sleepTime=0.05\n",
    "mypath=os.environ[\"SAMPLE_MAINTENANCE\"]+\"server/static/img\"\n",
    "print (mypath)"
   ]
  },
  {
   "cell_type": "code",
   "execution_count": null,
   "metadata": {},
   "outputs": [],
   "source": [
    "import warnings\n",
    "warnings.filterwarnings('ignore')\n",
    "\n",
    "import os\n",
    "from os import listdir\n",
    "from os.path import isfile, join\n",
    "from PIL import Image\n",
    "import classify\n",
    "import pandas as pd\n",
    "import matplotlib.pyplot as plt\n",
    "\n",
    "while(True):\n",
    "    time.sleep(sleepTime)\n",
    "    for item in os.listdir(mypath):\n",
    "        if (os.path.isdir(item)== False):\n",
    "            if (item[-3:]=='.ck'):\n",
    "                fileImg=mypath+'/'+item[:-3]\n",
    "                if (os.path.isfile(fileImg)):\n",
    "                    img = Image.open(fileImg)\n",
    "                    width, height = img.size\n",
    "                    ratio = height/width\n",
    "                    width, height = img.size\n",
    "                    imResized = img.resize((600,int(ratio*600)), Image.ANTIALIAS)\n",
    "                    os.remove(mypath+\"/\"+item)\n",
    "                    os.remove(fileImg)               \n",
    "                    imResized.save(mypath+\"/_\"+item[:-3], 'JPEG', quality=90)\n",
    "                    print(\"saved:\"+mypath+\"/_\"+item[:-3])\n",
    "                    predictions , label_lines = classify.Classify(\"/_\"+item[:-3],mypath)\n",
    "                    os.remove(mypath+\"/_\"+item[:-3])\n",
    "                    print(predictions)\n",
    "                    print(label_lines)\n",
    "                    partJson= '{ \\\"name\\\":\\\"'+item[:-3]+'\\\",  \\\"results\\\": [ '\n",
    "                    i=1\n",
    "                    for r,l in zip(predictions[0],label_lines):\n",
    "                        partJson+='{ \\\"class' +str(i) + '\\\":\\\"' + l + '\\\", \\\"value\\\":\\\"' + str(r) + '\\\" },' \n",
    "                        i+=1\n",
    "                    json = partJson[:-1]+ ']  }'\n",
    "                    print (json)\n",
    "                    json_file = open(mypath+\"/\"+item[:-3]+\".json\", \"w\")\n",
    "                    json_file.write(json)\n",
    "                    json_file.close()"
   ]
  }
 ],
 "metadata": {
  "kernelspec": {
   "display_name": "Python 3",
   "language": "python",
   "name": "python3"
  },
  "language_info": {
   "codemirror_mode": {
    "name": "ipython",
    "version": 3
   },
   "file_extension": ".py",
   "mimetype": "text/x-python",
   "name": "python",
   "nbconvert_exporter": "python",
   "pygments_lexer": "ipython3",
   "version": "3.6.3"
  }
 },
 "nbformat": 4,
 "nbformat_minor": 2
}
