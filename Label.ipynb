{
 "cells": [
  {
   "cell_type": "markdown",
   "metadata": {},
   "source": [
    "# Recognition Notebook"
   ]
  },
  {
   "cell_type": "markdown",
   "metadata": {},
   "source": [
    "Choose Test Set classtype: "
   ]
  },
  {
   "cell_type": "code",
   "execution_count": null,
   "metadata": {},
   "outputs": [],
   "source": [
    "\n",
    "#testSet=\"close\"\n",
    "testSet=\"open\""
   ]
  },
  {
   "cell_type": "markdown",
   "metadata": {},
   "source": [
    "Clean Test directory [root_dir]/Test/[classtype]"
   ]
  },
  {
   "cell_type": "code",
   "execution_count": null,
   "metadata": {},
   "outputs": [],
   "source": [
    "import warnings\n",
    "warnings.filterwarnings('ignore')\n",
    "\n",
    "import os\n",
    "from os import listdir\n",
    "from os.path import isfile, join\n",
    "from IPython.display import Image\n",
    "\n",
    "mypath=os.environ[\"SAMPLE_MAINTENANCE\"]+\"Test/\"+testSet\n",
    "\n",
    "for item in os.listdir(mypath):\n",
    "    if (os.path.isdir(item)== False):\n",
    "        if (item[0]=='_'):\n",
    "            os.remove(mypath+\"/\"+item)\n",
    "            #print(\"item cancellato\"+item)\n",
    "print(\"removed resized file _* in \"+mypath)\n"
   ]
  },
  {
   "cell_type": "markdown",
   "metadata": {},
   "source": [
    "Resize image in test set to (600 x y) pixel, maintaing aspect ratio"
   ]
  },
  {
   "cell_type": "code",
   "execution_count": null,
   "metadata": {},
   "outputs": [],
   "source": [
    "from PIL import Image\n",
    "import os, sys\n",
    "\n",
    "def resize():\n",
    "    print (\"resize to 600xY mantaining aspect ratio\")\n",
    "    for item in os.listdir(mypath):\n",
    "        if (os.path.isdir(item)== False):\n",
    "            #print (item)\n",
    "            if (item[0]!='_'):\n",
    "                im = Image.open(mypath+\"/\"+item)\n",
    "                f, e = os.path.splitext(item)\n",
    "                width, height = im.size\n",
    "                ratio = height/width\n",
    "                width, height = im.size\n",
    "                #print (\"width,height,600,ratio*600\",width,height,600,int(ratio*600))\n",
    "                imResize = im.resize((600,int(ratio*600)), Image.ANTIALIAS)\n",
    "                imResize.save(mypath+\"/_\"+item, 'JPEG', quality=90)\n",
    "\n",
    "resize()"
   ]
  },
  {
   "cell_type": "markdown",
   "metadata": {},
   "source": [
    "Show file content and name in Test directory selected "
   ]
  },
  {
   "cell_type": "code",
   "execution_count": null,
   "metadata": {},
   "outputs": [],
   "source": [
    "from IPython.display import Image\n",
    "onlyfiles = [f for f in listdir(mypath) if isfile(join(mypath, f))]\n",
    "for x in onlyfiles:\n",
    "    if (x[0]==\"_\"):\n",
    "        #print(mypath+\"/\"+x)\n",
    "        print(x)\n",
    "        display(Image(mypath+\"/\"+x, width=256, height=100))\n"
   ]
  },
  {
   "cell_type": "markdown",
   "metadata": {},
   "source": [
    "Choose image to classify:"
   ]
  },
  {
   "cell_type": "code",
   "execution_count": null,
   "metadata": {},
   "outputs": [],
   "source": [
    "image=\"_1513940981652.jpg\""
   ]
  },
  {
   "cell_type": "markdown",
   "metadata": {},
   "source": [
    "Perform classification:"
   ]
  },
  {
   "cell_type": "code",
   "execution_count": null,
   "metadata": {},
   "outputs": [],
   "source": [
    "import classify\n",
    "import pandas as pd\n",
    "import matplotlib.pyplot as plt\n",
    "\n",
    "predictions , label_lines = classify.Classify(image,mypath)\n",
    "\n",
    "\n",
    "display(Image(mypath+\"/\"+image, width=256, height=100))\n",
    "    \n",
    "%matplotlib inline\n",
    "df2 = pd.DataFrame(predictions[0], label_lines).plot(kind='barh',fontsize=18)\n"
   ]
  },
  {
   "cell_type": "markdown",
   "metadata": {},
   "source": [
    "Performs a bulk classification about all Test files hold in the directory class selected "
   ]
  },
  {
   "cell_type": "code",
   "execution_count": null,
   "metadata": {},
   "outputs": [],
   "source": [
    "from IPython.display import Image\n",
    "onlyfiles = [f for f in listdir(mypath) if isfile(join(mypath, f))]\n",
    "for x in onlyfiles:\n",
    "    if (x[0]==\"_\"):\n",
    "        #print(mypath+\"/\"+x)\n",
    "        #print(x)\n",
    "        #display(Image(mypath+\"/\"+x, width=256, height=100))\n",
    "        predictions = classify.Classify(x,mypath)\n",
    "        #display(Image(mypath+\"/\"+x, width=256, height=100))\n",
    "        \n",
    "        if (predictions[0][0][0]<predictions[0][0][1]):\n",
    "            print (x+\": open \"+ \"[\"+str(predictions[0][0][0])+\",\"+str(predictions[0][0][1])+\"]\")\n",
    "        else:\n",
    "            print (x+\": closed \"+ \"[\"+str(predictions[0][0][0])+\",\"+str(predictions[0][0][1])+\"]\")\n",
    "        #%matplotlib inline\n",
    "        #df2 = pd.DataFrame(predictions[0], label_lines).plot(kind='barh',fontsize=18)"
   ]
  }
 ],
 "metadata": {
  "kernelspec": {
   "display_name": "Python 3",
   "language": "python",
   "name": "python3"
  },
  "language_info": {
   "codemirror_mode": {
    "name": "ipython",
    "version": 3
   },
   "file_extension": ".py",
   "mimetype": "text/x-python",
   "name": "python",
   "nbconvert_exporter": "python",
   "pygments_lexer": "ipython3",
   "version": "3.6.3"
  }
 },
 "nbformat": 4,
 "nbformat_minor": 2
}
